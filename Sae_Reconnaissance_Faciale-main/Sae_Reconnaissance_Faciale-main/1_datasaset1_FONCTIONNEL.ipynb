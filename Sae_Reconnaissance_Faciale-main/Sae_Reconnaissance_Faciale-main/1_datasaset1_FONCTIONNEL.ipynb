{
  "cells": [
    {
      "cell_type": "markdown",
      "id": "0a361880",
      "metadata": {
        "id": "0a361880"
      },
      "source": [
        "# Reconnaissance faciale via $k$ plus proches voisins ($k$-NN)\n",
        "\n",
        ">## Partie 1: Dataset"
      ]
    },
    {
      "cell_type": "markdown",
      "id": "9a9f35df",
      "metadata": {
        "id": "9a9f35df"
      },
      "source": [
        "## Librairies"
      ]
    },
    {
      "cell_type": "markdown",
      "id": "d691df55",
      "metadata": {
        "id": "d691df55"
      },
      "source": [
        "- La librairie `cv2` permet la détection automatique de visages, entre autres.\n",
        "\n",
        "- La librairie `pickle` permet de sauvegarder vos modèles une fois entraînés, et de les recharger pour pouvoir les utiliser."
      ]
    },
    {
      "cell_type": "code",
      "execution_count": null,
      "id": "8a41298c",
      "metadata": {
        "id": "8a41298c"
      },
      "outputs": [],
      "source": [
        "import os\n",
        "\n",
        "import cv2\n",
        "import pickle\n",
        "\n",
        "import numpy as np\n",
        "\n",
        "import matplotlib.pyplot as plt\n",
        "\n",
        "from IPython.display import display, Javascript\n",
        "from google.colab.output import eval_js\n",
        "from base64 import b64decode"
      ]
    },
    {
      "cell_type": "markdown",
      "id": "2089bbe3",
      "metadata": {
        "id": "2089bbe3"
      },
      "source": [
        "## Création du dataset"
      ]
    },
    {
      "cell_type": "markdown",
      "id": "b0183880",
      "metadata": {
        "id": "b0183880"
      },
      "source": [
        "Le code suivant permet de créer un **dataset** d'images que vous utiliserez dans votre projet de **reconnaissance faciale**. Ce dataset contiendra des images de vous-même associées à votre nom ainsi que des images d'autres personnes (par exemple vos camarades) associées à leurs noms. **À chaque fois que vos relancez le code ci-dessous, votre caméra capture 10 images de la personne qui se trouve devant vootre PC et ajoute ces dernières à votre dataset.**\n",
        "\n",
        "Le code effectue les opérations suivantes. Premièrement, on lit le flux vidéo de votre caméra et on détecte automatiquement les visages dans chaque image de ce flux en utilisant le **classificateur en cascade de Haar (Haar cascade classifier)** de la librairie `OpenCV`.\n",
        "\n",
        "Plus précisément, tant que la variable `ret` est vraie, indiquant que le flux vidéo est lu correctement, pour chaque image capturée par la caméras, on effectue les opérations suivantes:\n",
        "1. on convertit l'image en niveaux de gris;\n",
        "2. on détecte les coordonnées du visage en utilisant le classificateur en cascade de Haar;\n",
        "3. on recadre la région du visage et la redimensionne en $50 \\times 50$ pixels;\n",
        "4. on ajoute l'image du visage redimensionné à la liste `donnees_visage`, à chaque intervalle de $10$ images.\n",
        "\n",
        "Une fois que $10$ images de votre visage ont été collecteés, ou si l'utilisateur appuye sur la touche `Esc`, on met fin à la boucle et enregistre les images dans la liste `donnees_visage` sous forme d'un tableau `NumPy`.\n",
        "\n",
        "Par la suite, l'existence des fichiers `noms.pkl` et `visages.pkl` est vérifiée. S'ils n'existent pas, de nouveaux fichiers sont créés, la variable `nom` est enregistrée dans `noms.pkl` et les données de visage sont enregistrées dans `visages.pkl`. Si ces fichiers existent déjà, le code charge les données existantes, ajoute les nouvelles données de visage et noms, et les réenregistre le tout dans ces fichiers."
      ]
    },
    {
      "cell_type": "code",
      "execution_count": null,
      "id": "1ba3a98f",
      "metadata": {
        "colab": {
          "base_uri": "https://localhost:8080/",
          "height": 34
        },
        "id": "1ba3a98f",
        "outputId": "832854e6-02f8-4729-e878-35c38ae10fca"
      },
      "outputs": [
        {
          "name": "stdout",
          "output_type": "stream",
          "text": [
            "Entrez votre nom: rihanna\n"
          ]
        },
        {
          "output_type": "display_data",
          "data": {
            "text/plain": [
              "<IPython.core.display.Javascript object>"
            ],
            "application/javascript": [
              "\n",
              "    async function takePhoto(quality) {\n",
              "      const div = document.createElement('div');\n",
              "      const capture = document.createElement('button');\n",
              "      capture.textContent = 'Capture';\n",
              "      div.appendChild(capture);\n",
              "\n",
              "      const video = document.createElement('video');\n",
              "      video.style.display = 'block';\n",
              "      const stream = await navigator.mediaDevices.getUserMedia({video: true});\n",
              "\n",
              "      document.body.appendChild(div);\n",
              "      div.appendChild(video);\n",
              "      video.srcObject = stream;\n",
              "      await video.play();\n",
              "\n",
              "      google.colab.output.setIframeHeight(document.documentElement.scrollHeight, true);\n",
              "\n",
              "      await new Promise((resolve) => capture.onclick = resolve);\n",
              "\n",
              "      const canvas = document.createElement('canvas');\n",
              "      canvas.width = video.videoWidth;\n",
              "      canvas.height = video.videoHeight;\n",
              "      canvas.getContext('2d').drawImage(video, 0, 0);\n",
              "      stream.getVideoTracks()[0].stop();\n",
              "      div.remove();\n",
              "      return canvas.toDataURL('image/jpeg', quality);\n",
              "    }\n",
              "    "
            ]
          },
          "metadata": {}
        },
        {
          "output_type": "display_data",
          "data": {
            "text/plain": [
              "<IPython.core.display.Javascript object>"
            ],
            "application/javascript": [
              "\n",
              "    async function takePhoto(quality) {\n",
              "      const div = document.createElement('div');\n",
              "      const capture = document.createElement('button');\n",
              "      capture.textContent = 'Capture';\n",
              "      div.appendChild(capture);\n",
              "\n",
              "      const video = document.createElement('video');\n",
              "      video.style.display = 'block';\n",
              "      const stream = await navigator.mediaDevices.getUserMedia({video: true});\n",
              "\n",
              "      document.body.appendChild(div);\n",
              "      div.appendChild(video);\n",
              "      video.srcObject = stream;\n",
              "      await video.play();\n",
              "\n",
              "      google.colab.output.setIframeHeight(document.documentElement.scrollHeight, true);\n",
              "\n",
              "      await new Promise((resolve) => capture.onclick = resolve);\n",
              "\n",
              "      const canvas = document.createElement('canvas');\n",
              "      canvas.width = video.videoWidth;\n",
              "      canvas.height = video.videoHeight;\n",
              "      canvas.getContext('2d').drawImage(video, 0, 0);\n",
              "      stream.getVideoTracks()[0].stop();\n",
              "      div.remove();\n",
              "      return canvas.toDataURL('image/jpeg', quality);\n",
              "    }\n",
              "    "
            ]
          },
          "metadata": {}
        },
        {
          "output_type": "display_data",
          "data": {
            "text/plain": [
              "<IPython.core.display.Javascript object>"
            ],
            "application/javascript": [
              "\n",
              "    async function takePhoto(quality) {\n",
              "      const div = document.createElement('div');\n",
              "      const capture = document.createElement('button');\n",
              "      capture.textContent = 'Capture';\n",
              "      div.appendChild(capture);\n",
              "\n",
              "      const video = document.createElement('video');\n",
              "      video.style.display = 'block';\n",
              "      const stream = await navigator.mediaDevices.getUserMedia({video: true});\n",
              "\n",
              "      document.body.appendChild(div);\n",
              "      div.appendChild(video);\n",
              "      video.srcObject = stream;\n",
              "      await video.play();\n",
              "\n",
              "      google.colab.output.setIframeHeight(document.documentElement.scrollHeight, true);\n",
              "\n",
              "      await new Promise((resolve) => capture.onclick = resolve);\n",
              "\n",
              "      const canvas = document.createElement('canvas');\n",
              "      canvas.width = video.videoWidth;\n",
              "      canvas.height = video.videoHeight;\n",
              "      canvas.getContext('2d').drawImage(video, 0, 0);\n",
              "      stream.getVideoTracks()[0].stop();\n",
              "      div.remove();\n",
              "      return canvas.toDataURL('image/jpeg', quality);\n",
              "    }\n",
              "    "
            ]
          },
          "metadata": {}
        },
        {
          "output_type": "display_data",
          "data": {
            "text/plain": [
              "<IPython.core.display.Javascript object>"
            ],
            "application/javascript": [
              "\n",
              "    async function takePhoto(quality) {\n",
              "      const div = document.createElement('div');\n",
              "      const capture = document.createElement('button');\n",
              "      capture.textContent = 'Capture';\n",
              "      div.appendChild(capture);\n",
              "\n",
              "      const video = document.createElement('video');\n",
              "      video.style.display = 'block';\n",
              "      const stream = await navigator.mediaDevices.getUserMedia({video: true});\n",
              "\n",
              "      document.body.appendChild(div);\n",
              "      div.appendChild(video);\n",
              "      video.srcObject = stream;\n",
              "      await video.play();\n",
              "\n",
              "      google.colab.output.setIframeHeight(document.documentElement.scrollHeight, true);\n",
              "\n",
              "      await new Promise((resolve) => capture.onclick = resolve);\n",
              "\n",
              "      const canvas = document.createElement('canvas');\n",
              "      canvas.width = video.videoWidth;\n",
              "      canvas.height = video.videoHeight;\n",
              "      canvas.getContext('2d').drawImage(video, 0, 0);\n",
              "      stream.getVideoTracks()[0].stop();\n",
              "      div.remove();\n",
              "      return canvas.toDataURL('image/jpeg', quality);\n",
              "    }\n",
              "    "
            ]
          },
          "metadata": {}
        },
        {
          "output_type": "display_data",
          "data": {
            "text/plain": [
              "<IPython.core.display.Javascript object>"
            ],
            "application/javascript": [
              "\n",
              "    async function takePhoto(quality) {\n",
              "      const div = document.createElement('div');\n",
              "      const capture = document.createElement('button');\n",
              "      capture.textContent = 'Capture';\n",
              "      div.appendChild(capture);\n",
              "\n",
              "      const video = document.createElement('video');\n",
              "      video.style.display = 'block';\n",
              "      const stream = await navigator.mediaDevices.getUserMedia({video: true});\n",
              "\n",
              "      document.body.appendChild(div);\n",
              "      div.appendChild(video);\n",
              "      video.srcObject = stream;\n",
              "      await video.play();\n",
              "\n",
              "      google.colab.output.setIframeHeight(document.documentElement.scrollHeight, true);\n",
              "\n",
              "      await new Promise((resolve) => capture.onclick = resolve);\n",
              "\n",
              "      const canvas = document.createElement('canvas');\n",
              "      canvas.width = video.videoWidth;\n",
              "      canvas.height = video.videoHeight;\n",
              "      canvas.getContext('2d').drawImage(video, 0, 0);\n",
              "      stream.getVideoTracks()[0].stop();\n",
              "      div.remove();\n",
              "      return canvas.toDataURL('image/jpeg', quality);\n",
              "    }\n",
              "    "
            ]
          },
          "metadata": {}
        },
        {
          "output_type": "display_data",
          "data": {
            "text/plain": [
              "<IPython.core.display.Javascript object>"
            ],
            "application/javascript": [
              "\n",
              "    async function takePhoto(quality) {\n",
              "      const div = document.createElement('div');\n",
              "      const capture = document.createElement('button');\n",
              "      capture.textContent = 'Capture';\n",
              "      div.appendChild(capture);\n",
              "\n",
              "      const video = document.createElement('video');\n",
              "      video.style.display = 'block';\n",
              "      const stream = await navigator.mediaDevices.getUserMedia({video: true});\n",
              "\n",
              "      document.body.appendChild(div);\n",
              "      div.appendChild(video);\n",
              "      video.srcObject = stream;\n",
              "      await video.play();\n",
              "\n",
              "      google.colab.output.setIframeHeight(document.documentElement.scrollHeight, true);\n",
              "\n",
              "      await new Promise((resolve) => capture.onclick = resolve);\n",
              "\n",
              "      const canvas = document.createElement('canvas');\n",
              "      canvas.width = video.videoWidth;\n",
              "      canvas.height = video.videoHeight;\n",
              "      canvas.getContext('2d').drawImage(video, 0, 0);\n",
              "      stream.getVideoTracks()[0].stop();\n",
              "      div.remove();\n",
              "      return canvas.toDataURL('image/jpeg', quality);\n",
              "    }\n",
              "    "
            ]
          },
          "metadata": {}
        },
        {
          "output_type": "display_data",
          "data": {
            "text/plain": [
              "<IPython.core.display.Javascript object>"
            ],
            "application/javascript": [
              "\n",
              "    async function takePhoto(quality) {\n",
              "      const div = document.createElement('div');\n",
              "      const capture = document.createElement('button');\n",
              "      capture.textContent = 'Capture';\n",
              "      div.appendChild(capture);\n",
              "\n",
              "      const video = document.createElement('video');\n",
              "      video.style.display = 'block';\n",
              "      const stream = await navigator.mediaDevices.getUserMedia({video: true});\n",
              "\n",
              "      document.body.appendChild(div);\n",
              "      div.appendChild(video);\n",
              "      video.srcObject = stream;\n",
              "      await video.play();\n",
              "\n",
              "      google.colab.output.setIframeHeight(document.documentElement.scrollHeight, true);\n",
              "\n",
              "      await new Promise((resolve) => capture.onclick = resolve);\n",
              "\n",
              "      const canvas = document.createElement('canvas');\n",
              "      canvas.width = video.videoWidth;\n",
              "      canvas.height = video.videoHeight;\n",
              "      canvas.getContext('2d').drawImage(video, 0, 0);\n",
              "      stream.getVideoTracks()[0].stop();\n",
              "      div.remove();\n",
              "      return canvas.toDataURL('image/jpeg', quality);\n",
              "    }\n",
              "    "
            ]
          },
          "metadata": {}
        },
        {
          "output_type": "display_data",
          "data": {
            "text/plain": [
              "<IPython.core.display.Javascript object>"
            ],
            "application/javascript": [
              "\n",
              "    async function takePhoto(quality) {\n",
              "      const div = document.createElement('div');\n",
              "      const capture = document.createElement('button');\n",
              "      capture.textContent = 'Capture';\n",
              "      div.appendChild(capture);\n",
              "\n",
              "      const video = document.createElement('video');\n",
              "      video.style.display = 'block';\n",
              "      const stream = await navigator.mediaDevices.getUserMedia({video: true});\n",
              "\n",
              "      document.body.appendChild(div);\n",
              "      div.appendChild(video);\n",
              "      video.srcObject = stream;\n",
              "      await video.play();\n",
              "\n",
              "      google.colab.output.setIframeHeight(document.documentElement.scrollHeight, true);\n",
              "\n",
              "      await new Promise((resolve) => capture.onclick = resolve);\n",
              "\n",
              "      const canvas = document.createElement('canvas');\n",
              "      canvas.width = video.videoWidth;\n",
              "      canvas.height = video.videoHeight;\n",
              "      canvas.getContext('2d').drawImage(video, 0, 0);\n",
              "      stream.getVideoTracks()[0].stop();\n",
              "      div.remove();\n",
              "      return canvas.toDataURL('image/jpeg', quality);\n",
              "    }\n",
              "    "
            ]
          },
          "metadata": {}
        },
        {
          "output_type": "display_data",
          "data": {
            "text/plain": [
              "<IPython.core.display.Javascript object>"
            ],
            "application/javascript": [
              "\n",
              "    async function takePhoto(quality) {\n",
              "      const div = document.createElement('div');\n",
              "      const capture = document.createElement('button');\n",
              "      capture.textContent = 'Capture';\n",
              "      div.appendChild(capture);\n",
              "\n",
              "      const video = document.createElement('video');\n",
              "      video.style.display = 'block';\n",
              "      const stream = await navigator.mediaDevices.getUserMedia({video: true});\n",
              "\n",
              "      document.body.appendChild(div);\n",
              "      div.appendChild(video);\n",
              "      video.srcObject = stream;\n",
              "      await video.play();\n",
              "\n",
              "      google.colab.output.setIframeHeight(document.documentElement.scrollHeight, true);\n",
              "\n",
              "      await new Promise((resolve) => capture.onclick = resolve);\n",
              "\n",
              "      const canvas = document.createElement('canvas');\n",
              "      canvas.width = video.videoWidth;\n",
              "      canvas.height = video.videoHeight;\n",
              "      canvas.getContext('2d').drawImage(video, 0, 0);\n",
              "      stream.getVideoTracks()[0].stop();\n",
              "      div.remove();\n",
              "      return canvas.toDataURL('image/jpeg', quality);\n",
              "    }\n",
              "    "
            ]
          },
          "metadata": {}
        },
        {
          "output_type": "display_data",
          "data": {
            "text/plain": [
              "<IPython.core.display.Javascript object>"
            ],
            "application/javascript": [
              "\n",
              "    async function takePhoto(quality) {\n",
              "      const div = document.createElement('div');\n",
              "      const capture = document.createElement('button');\n",
              "      capture.textContent = 'Capture';\n",
              "      div.appendChild(capture);\n",
              "\n",
              "      const video = document.createElement('video');\n",
              "      video.style.display = 'block';\n",
              "      const stream = await navigator.mediaDevices.getUserMedia({video: true});\n",
              "\n",
              "      document.body.appendChild(div);\n",
              "      div.appendChild(video);\n",
              "      video.srcObject = stream;\n",
              "      await video.play();\n",
              "\n",
              "      google.colab.output.setIframeHeight(document.documentElement.scrollHeight, true);\n",
              "\n",
              "      await new Promise((resolve) => capture.onclick = resolve);\n",
              "\n",
              "      const canvas = document.createElement('canvas');\n",
              "      canvas.width = video.videoWidth;\n",
              "      canvas.height = video.videoHeight;\n",
              "      canvas.getContext('2d').drawImage(video, 0, 0);\n",
              "      stream.getVideoTracks()[0].stop();\n",
              "      div.remove();\n",
              "      return canvas.toDataURL('image/jpeg', quality);\n",
              "    }\n",
              "    "
            ]
          },
          "metadata": {}
        }
      ],
      "source": [
        "# ================== #\n",
        "# Variables globales #\n",
        "# ================== #\n",
        "\n",
        "# Création d'un répertoire data\n",
        "if not os.path.exists(\"data\"):\n",
        "    os.mkdir(\"data\")\n",
        "\n",
        "nb_images_collectees = 10 # Nombre d'image qu'on veut collecter\n",
        "\n",
        "donnees_visage = [] # Liste vide pour stocker les visages\n",
        "\n",
        "# =============================== #\n",
        "# Capture des data: nom et images #\n",
        "# =============================== #\n",
        "\n",
        "# Définition de la fonction pour capturer une photo\n",
        "def take_photo(filename='photo.jpg', quality=0.8):\n",
        "  js = Javascript('''\n",
        "    async function takePhoto(quality) {\n",
        "      const div = document.createElement('div');\n",
        "      const capture = document.createElement('button'); // bouton pour capture d'image\n",
        "      capture.textContent = 'Capture';\n",
        "      div.appendChild(capture);\n",
        "      // permet l'affichage du flux vidéo de notre caméra en temps réel\n",
        "      const video = document.createElement('video');\n",
        "      video.style.display = 'block';\n",
        "      const stream = await navigator.mediaDevices.getUserMedia({video: true});\n",
        "\n",
        "      document.body.appendChild(div);\n",
        "      div.appendChild(video);\n",
        "      video.srcObject = stream;\n",
        "      await video.play();\n",
        "\n",
        "      google.colab.output.setIframeHeight(document.documentElement.scrollHeight, true);\n",
        "      // l'exécution du script s'interromp jusqu'à ce qu'un clic pour la capture soit effectué\n",
        "      await new Promise((resolve) => capture.onclick = resolve);\n",
        "      // capture de l'image, arrêt de la caméra, mise en format jpeg de l'image\n",
        "      const canvas = document.createElement('canvas');\n",
        "      canvas.width = video.videoWidth;\n",
        "      canvas.height = video.videoHeight;\n",
        "      canvas.getContext('2d').drawImage(video, 0, 0);\n",
        "      stream.getVideoTracks()[0].stop();\n",
        "      div.remove();\n",
        "      return canvas.toDataURL('image/jpeg', quality);\n",
        "    }\n",
        "    ''')\n",
        "  # On exécute le script JavaScript et on réceptionne l'image capturée sous forme de chaîne de données base64\n",
        "  display(js)\n",
        "  data = eval_js('takePhoto({})'.format(quality))\n",
        "  # on décode la chaîne base64 pour obtenir les données de l'image en binaire\n",
        "  binary = b64decode(data.split(',')[1])\n",
        "  # Sauvegarde des données binaires dans un fichier image\n",
        "  with open(filename, 'wb') as f:\n",
        "    f.write(binary)\n",
        "  return filename\n",
        "\n",
        "# on charge le modèl qui permet de détecter les visage\n",
        "cascade_visage = cv2.CascadeClassifier(cv2.data.haarcascades + 'haarcascade_frontalface_default.xml')\n",
        "\n",
        "nom = input(\"Entrez votre nom: \")  # pour saisire le nom\n",
        "for i in range(nb_images_collectees):\n",
        "    filename = take_photo()  # Capture une photo\n",
        "    image = cv2.imread(filename)\n",
        "    gris = cv2.cvtColor(image, cv2.COLOR_BGR2GRAY)\n",
        "    coordonnees_visage = cascade_visage.detectMultiScale(gris, 1.3, 5)\n",
        "\n",
        "    for (x, y, w, h) in coordonnees_visage:\n",
        "        visage = image[y:y+h, x:x+w]\n",
        "        visage_redimensionne = cv2.resize(visage, (50, 50))\n",
        "        donnees_visage.append(visage_redimensionne)\n",
        "        break  # on sauvegarde que le 1er visage détecté\n",
        "\n",
        "# Conversion en un tableau numpy\n",
        "donnees_visage = np.array(donnees_visage)\n",
        "\n",
        "# Enregistrement des noms\n",
        "noms_path = \"data/noms.pkl\"\n",
        "if os.path.exists(noms_path):\n",
        "    with open(noms_path, 'rb') as file:\n",
        "        noms = pickle.load(file)\n",
        "else:\n",
        "    noms = []\n",
        "\n",
        "noms += [nom] * nb_images_collectees\n",
        "with open(noms_path, 'wb') as file:\n",
        "    pickle.dump(noms, file)\n",
        "\n",
        "# Enregistrement des visages\n",
        "visages_path = \"data/visages.pkl\"\n",
        "if os.path.exists(visages_path):\n",
        "    with open(visages_path, 'rb') as file:\n",
        "        visages_existants = pickle.load(file)\n",
        "    visages = np.concatenate((visages_existants, donnees_visage), axis=0)\n",
        "else:\n",
        "    visages = donnees_visage\n",
        "\n",
        "with open(visages_path, 'wb') as file:\n",
        "    pickle.dump(visages, file)"
      ]
    },
    {
      "cell_type": "markdown",
      "id": "e3bec3e0",
      "metadata": {
        "id": "e3bec3e0"
      },
      "source": [
        "## Visualisation du dataset"
      ]
    },
    {
      "cell_type": "markdown",
      "id": "08df3d2c",
      "metadata": {
        "id": "08df3d2c"
      },
      "source": [
        "Le instructions suivantes permettent de loader votre dataset et de comprendre comment sont stockées les data.\n",
        "\n",
        "Prêtez attention aux types de vos data, en particulier à la dimension de vos images, etc."
      ]
    },
    {
      "cell_type": "code",
      "execution_count": null,
      "id": "c4c5cd3d",
      "metadata": {
        "id": "c4c5cd3d"
      },
      "outputs": [],
      "source": [
        "with open(\"data/noms.pkl\", \"rb\") as fh:\n",
        "    noms = pickle.load(fh)"
      ]
    },
    {
      "cell_type": "code",
      "execution_count": null,
      "id": "b3af5a29",
      "metadata": {
        "id": "b3af5a29",
        "outputId": "a2f419ff-35b7-4951-ff0f-82e2ddc6ca7c",
        "colab": {
          "base_uri": "https://localhost:8080/"
        }
      },
      "outputs": [
        {
          "output_type": "execute_result",
          "data": {
            "text/plain": [
              "['rihanna',\n",
              " 'rihanna',\n",
              " 'rihanna',\n",
              " 'rihanna',\n",
              " 'rihanna',\n",
              " 'rihanna',\n",
              " 'rihanna',\n",
              " 'rihanna',\n",
              " 'rihanna',\n",
              " 'rihanna',\n",
              " 'rihanna',\n",
              " 'rihanna',\n",
              " 'rihanna',\n",
              " 'rihanna',\n",
              " 'rihanna',\n",
              " 'rihanna',\n",
              " 'rihanna',\n",
              " 'rihanna',\n",
              " 'rihanna',\n",
              " 'rihanna',\n",
              " 'rihanna',\n",
              " 'rihanna',\n",
              " 'rihanna',\n",
              " 'rihanna',\n",
              " 'rihanna',\n",
              " 'rihanna',\n",
              " 'rihanna',\n",
              " 'rihanna',\n",
              " 'rihanna',\n",
              " 'rihanna']"
            ]
          },
          "metadata": {},
          "execution_count": 10
        }
      ],
      "source": [
        "noms"
      ]
    },
    {
      "cell_type": "code",
      "execution_count": null,
      "id": "d7fc242c",
      "metadata": {
        "id": "d7fc242c"
      },
      "outputs": [],
      "source": [
        "with open(\"data/visages.pkl\", \"rb\") as fh:\n",
        "    visages = pickle.load(fh)"
      ]
    },
    {
      "cell_type": "code",
      "execution_count": null,
      "id": "10dab6d3",
      "metadata": {
        "id": "10dab6d3",
        "outputId": "4daa7651-9d80-4de7-b3f9-6cdfd63d2b29",
        "colab": {
          "base_uri": "https://localhost:8080/"
        }
      },
      "outputs": [
        {
          "output_type": "execute_result",
          "data": {
            "text/plain": [
              "array([[[[255, 250, 238],\n",
              "         [252, 252, 248],\n",
              "         [255, 255, 255],\n",
              "         ...,\n",
              "         [ 16,   4,   0],\n",
              "         [ 15,   2,   0],\n",
              "         [ 19,   2,   0]],\n",
              "\n",
              "        [[255, 254, 245],\n",
              "         [253, 255, 255],\n",
              "         [253, 255, 255],\n",
              "         ...,\n",
              "         [ 16,   4,   0],\n",
              "         [ 16,   4,   0],\n",
              "         [ 18,   2,   0]],\n",
              "\n",
              "        [[255, 255, 249],\n",
              "         [254, 255, 253],\n",
              "         [255, 255, 255],\n",
              "         ...,\n",
              "         [ 15,   4,   0],\n",
              "         [ 19,   3,   0],\n",
              "         [ 16,   4,   0]],\n",
              "\n",
              "        ...,\n",
              "\n",
              "        [[ 22,   2,   0],\n",
              "         [ 25,   4,   0],\n",
              "         [ 29,   7,   2],\n",
              "         ...,\n",
              "         [ 43,  16,   2],\n",
              "         [ 39,  16,   1],\n",
              "         [ 41,  14,   1]],\n",
              "\n",
              "        [[ 23,   2,   1],\n",
              "         [ 25,   3,   1],\n",
              "         [ 29,   4,   0],\n",
              "         ...,\n",
              "         [ 37,  11,   0],\n",
              "         [ 37,  14,   0],\n",
              "         [ 37,  11,   0]],\n",
              "\n",
              "        [[ 23,   5,   0],\n",
              "         [ 25,   6,   0],\n",
              "         [ 28,   8,   1],\n",
              "         ...,\n",
              "         [ 35,  12,   1],\n",
              "         [ 33,  11,   0],\n",
              "         [ 33,   7,   0]]],\n",
              "\n",
              "\n",
              "       [[[ 66,  40,  24],\n",
              "         [255, 255, 226],\n",
              "         [252, 254, 248],\n",
              "         ...,\n",
              "         [ 15,   4,   0],\n",
              "         [ 17,   5,   1],\n",
              "         [ 16,   4,   0]],\n",
              "\n",
              "        [[135, 104,  84],\n",
              "         [254, 255, 239],\n",
              "         [255, 254, 249],\n",
              "         ...,\n",
              "         [ 19,   3,   0],\n",
              "         [ 21,   3,   0],\n",
              "         [ 21,   3,   0]],\n",
              "\n",
              "        [[206, 183, 165],\n",
              "         [252, 255, 240],\n",
              "         [255, 254, 249],\n",
              "         ...,\n",
              "         [ 19,   3,   0],\n",
              "         [ 20,   3,   0],\n",
              "         [ 20,   3,   0]],\n",
              "\n",
              "        ...,\n",
              "\n",
              "        [[ 20,   5,   2],\n",
              "         [ 20,   4,   1],\n",
              "         [ 25,   6,   3],\n",
              "         ...,\n",
              "         [ 40,   7,   0],\n",
              "         [ 54,  19,   1],\n",
              "         [ 47,  20,   0]],\n",
              "\n",
              "        [[ 23,   8,   5],\n",
              "         [ 23,   4,   1],\n",
              "         [ 25,   4,   2],\n",
              "         ...,\n",
              "         [ 34,   7,   0],\n",
              "         [ 35,   8,   0],\n",
              "         [ 35,  11,   0]],\n",
              "\n",
              "        [[ 22,   5,   2],\n",
              "         [ 19,   2,   0],\n",
              "         [ 24,   5,   2],\n",
              "         ...,\n",
              "         [ 30,   8,   0],\n",
              "         [ 33,  13,   2],\n",
              "         [ 33,   6,   0]]],\n",
              "\n",
              "\n",
              "       [[[  9,   1,   2],\n",
              "         [ 34,  18,   6],\n",
              "         [255, 255, 236],\n",
              "         ...,\n",
              "         [ 18,   3,   0],\n",
              "         [ 15,   4,   0],\n",
              "         [ 15,   4,   0]],\n",
              "\n",
              "        [[ 10,   3,   0],\n",
              "         [104,  87,  74],\n",
              "         [253, 255, 238],\n",
              "         ...,\n",
              "         [ 16,   4,   0],\n",
              "         [ 13,   4,   0],\n",
              "         [ 13,   4,   0]],\n",
              "\n",
              "        [[ 13,   1,   0],\n",
              "         [196, 184, 167],\n",
              "         [255, 255, 242],\n",
              "         ...,\n",
              "         [ 13,   4,   0],\n",
              "         [ 14,   4,   0],\n",
              "         [ 15,   4,   0]],\n",
              "\n",
              "        ...,\n",
              "\n",
              "        [[ 29,  11,   4],\n",
              "         [ 26,   7,   2],\n",
              "         [ 24,   7,   1],\n",
              "         ...,\n",
              "         [137, 107,  86],\n",
              "         [148, 122,  87],\n",
              "         [100,  77,  45]],\n",
              "\n",
              "        [[ 36,  10,   4],\n",
              "         [ 26,   7,   2],\n",
              "         [ 21,   6,   0],\n",
              "         ...,\n",
              "         [ 46,  11,   0],\n",
              "         [ 95,  68,  33],\n",
              "         [ 46,  23,   0]],\n",
              "\n",
              "        [[ 33,   4,   0],\n",
              "         [ 34,   7,   3],\n",
              "         [ 24,   5,   0],\n",
              "         ...,\n",
              "         [ 30,   7,   0],\n",
              "         [ 31,  13,   5],\n",
              "         [ 28,  11,   2]]],\n",
              "\n",
              "\n",
              "       ...,\n",
              "\n",
              "\n",
              "       [[[255, 255, 249],\n",
              "         [255, 255, 249],\n",
              "         [255, 255, 249],\n",
              "         ...,\n",
              "         [ 12,   4,   0],\n",
              "         [ 12,   3,   0],\n",
              "         [ 12,   3,   0]],\n",
              "\n",
              "        [[255, 255, 249],\n",
              "         [255, 255, 249],\n",
              "         [255, 255, 249],\n",
              "         ...,\n",
              "         [  9,   5,   0],\n",
              "         [ 10,   3,   0],\n",
              "         [ 10,   3,   0]],\n",
              "\n",
              "        [[255, 255, 248],\n",
              "         [255, 255, 248],\n",
              "         [255, 255, 248],\n",
              "         ...,\n",
              "         [  8,   3,   0],\n",
              "         [  9,   3,   0],\n",
              "         [  8,   2,   0]],\n",
              "\n",
              "        ...,\n",
              "\n",
              "        [[ 87,  55,  21],\n",
              "         [ 76,  47,  15],\n",
              "         [ 78,  53,  20],\n",
              "         ...,\n",
              "         [ 39,  40,  54],\n",
              "         [  8,  11,   9],\n",
              "         [ 13,  11,   1]],\n",
              "\n",
              "        [[ 79,  51,  21],\n",
              "         [ 71,  45,  16],\n",
              "         [ 64,  43,  13],\n",
              "         ...,\n",
              "         [ 36,  39,  52],\n",
              "         [ 17,  13,  14],\n",
              "         [ 17,   8,   0]],\n",
              "\n",
              "        [[ 76,  45,  18],\n",
              "         [ 60,  31,   6],\n",
              "         [ 53,  29,   5],\n",
              "         ...,\n",
              "         [ 61,  60,  62],\n",
              "         [ 37,  31,  23],\n",
              "         [ 26,  14,   4]]],\n",
              "\n",
              "\n",
              "       [[[255, 255, 248],\n",
              "         [255, 254, 250],\n",
              "         [255, 255, 247],\n",
              "         ...,\n",
              "         [ 12,   3,   0],\n",
              "         [ 11,   2,   0],\n",
              "         [ 14,   2,   0]],\n",
              "\n",
              "        [[253, 254, 245],\n",
              "         [255, 254, 250],\n",
              "         [255, 255, 249],\n",
              "         ...,\n",
              "         [ 12,   3,   0],\n",
              "         [ 11,   2,   0],\n",
              "         [ 14,   2,   0]],\n",
              "\n",
              "        [[255, 255, 249],\n",
              "         [255, 254, 250],\n",
              "         [255, 253, 252],\n",
              "         ...,\n",
              "         [ 12,   3,   0],\n",
              "         [ 12,   3,   0],\n",
              "         [ 14,   2,   0]],\n",
              "\n",
              "        ...,\n",
              "\n",
              "        [[100,  63,  29],\n",
              "         [ 77,  52,  26],\n",
              "         [ 65,  51,  22],\n",
              "         ...,\n",
              "         [ 19,   5,   0],\n",
              "         [ 22,   6,   0],\n",
              "         [ 21,   8,   0]],\n",
              "\n",
              "        [[ 83,  53,  24],\n",
              "         [ 62,  38,  14],\n",
              "         [ 51,  31,  13],\n",
              "         ...,\n",
              "         [ 70,  62,  39],\n",
              "         [ 59,  50,  30],\n",
              "         [ 46,  37,  19]],\n",
              "\n",
              "        [[ 72,  42,  15],\n",
              "         [ 54,  30,   8],\n",
              "         [ 63,  41,  13],\n",
              "         ...,\n",
              "         [ 19,  10,   0],\n",
              "         [ 20,  10,   0],\n",
              "         [ 20,   9,   1]]],\n",
              "\n",
              "\n",
              "       [[[252, 252, 246],\n",
              "         [255, 255, 249],\n",
              "         [254, 255, 250],\n",
              "         ...,\n",
              "         [  8,   5,   0],\n",
              "         [  9,   5,   0],\n",
              "         [ 14,   3,   0]],\n",
              "\n",
              "        [[255, 255, 251],\n",
              "         [255, 255, 249],\n",
              "         [255, 255, 250],\n",
              "         ...,\n",
              "         [  8,   5,   0],\n",
              "         [  9,   5,   0],\n",
              "         [ 14,   3,   0]],\n",
              "\n",
              "        [[255, 255, 249],\n",
              "         [255, 255, 249],\n",
              "         [255, 255, 249],\n",
              "         ...,\n",
              "         [  9,   5,   0],\n",
              "         [  9,   5,   0],\n",
              "         [ 14,   3,   0]],\n",
              "\n",
              "        ...,\n",
              "\n",
              "        [[ 74,  47,  13],\n",
              "         [ 61,  40,  13],\n",
              "         [ 53,  32,  10],\n",
              "         ...,\n",
              "         [ 11,   5,   0],\n",
              "         [ 17,  11,   0],\n",
              "         [ 15,   5,   0]],\n",
              "\n",
              "        [[ 81,  56,  24],\n",
              "         [ 62,  39,  17],\n",
              "         [ 53,  35,  12],\n",
              "         ...,\n",
              "         [ 63,  49,  37],\n",
              "         [ 43,  36,  27],\n",
              "         [ 48,  39,  25]],\n",
              "\n",
              "        [[ 77,  50,  24],\n",
              "         [ 50,  28,   3],\n",
              "         [ 54,  38,   9],\n",
              "         ...,\n",
              "         [ 15,   3,   0],\n",
              "         [ 17,   3,   0],\n",
              "         [ 24,   8,   1]]]], dtype=uint8)"
            ]
          },
          "metadata": {},
          "execution_count": 12
        }
      ],
      "source": [
        "visages"
      ]
    },
    {
      "cell_type": "code",
      "execution_count": null,
      "id": "a8436555",
      "metadata": {
        "id": "a8436555",
        "outputId": "6930d8fd-15f1-4be0-c534-a43b0d68785d",
        "colab": {
          "base_uri": "https://localhost:8080/"
        }
      },
      "outputs": [
        {
          "output_type": "execute_result",
          "data": {
            "text/plain": [
              "(30, 50, 50, 3)"
            ]
          },
          "metadata": {},
          "execution_count": 13
        }
      ],
      "source": [
        "visages.shape"
      ]
    },
    {
      "cell_type": "code",
      "execution_count": null,
      "id": "1ef19a8e",
      "metadata": {
        "id": "1ef19a8e",
        "outputId": "26119a8d-fce2-40e4-823c-ad236349f9f3",
        "colab": {
          "base_uri": "https://localhost:8080/"
        }
      },
      "outputs": [
        {
          "output_type": "execute_result",
          "data": {
            "text/plain": [
              "(50, 50, 3)"
            ]
          },
          "metadata": {},
          "execution_count": 14
        }
      ],
      "source": [
        "sample_1 = visages[0]\n",
        "sample_1.shape"
      ]
    },
    {
      "cell_type": "code",
      "execution_count": null,
      "id": "c3539263",
      "metadata": {
        "id": "c3539263",
        "outputId": "54b3b61d-9ccd-4730-b148-cdff07176880",
        "colab": {
          "base_uri": "https://localhost:8080/",
          "height": 449
        }
      },
      "outputs": [
        {
          "output_type": "execute_result",
          "data": {
            "text/plain": [
              "<matplotlib.image.AxesImage at 0x78a3af4a7730>"
            ]
          },
          "metadata": {},
          "execution_count": 15
        },
        {
          "output_type": "display_data",
          "data": {
            "text/plain": [
              "<Figure size 640x480 with 1 Axes>"
            ],
            "image/png": "[encoded data removed]"
          },
          "metadata": {}
        }
      ],
      "source": [
        "plt.imshow(sample_1, interpolation=\"nearest\")"
      ]
    },
    {
      "cell_type": "code",
      "execution_count": null,
      "id": "ac4aaef1",
      "metadata": {
        "id": "ac4aaef1",
        "outputId": "6ed37a58-3c0c-4b5f-e695-1ae80ad10cd3",
        "colab": {
          "base_uri": "https://localhost:8080/"
        }
      },
      "outputs": [
        {
          "output_type": "execute_result",
          "data": {
            "text/plain": [
              "(50, 50, 3)"
            ]
          },
          "metadata": {},
          "execution_count": 16
        }
      ],
      "source": [
        "sample_2 = visages[5]\n",
        "sample_2.shape"
      ]
    },
    {
      "cell_type": "code",
      "execution_count": null,
      "id": "ed489bfa",
      "metadata": {
        "id": "ed489bfa",
        "outputId": "1f498ad8-f93c-45ff-f418-d66d2dee9c03",
        "colab": {
          "base_uri": "https://localhost:8080/",
          "height": 449
        }
      },
      "outputs": [
        {
          "output_type": "execute_result",
          "data": {
            "text/plain": [
              "<matplotlib.image.AxesImage at 0x78a3ac943b80>"
            ]
          },
          "metadata": {},
          "execution_count": 17
        },
        {
          "output_type": "display_data",
          "data": {
            "text/plain": [
              "<Figure size 640x480 with 1 Axes>"
            ],
            "image/png": "[encoded data removed]"
          },
          "metadata": {}
        }
      ],
      "source": [
        "plt.imshow(sample_2, interpolation=\"nearest\")"
      ]
    },
    {
      "cell_type": "code",
      "execution_count": null,
      "id": "06a26147",
      "metadata": {
        "id": "06a26147"
      },
      "outputs": [],
      "source": []
    }
  ],
  "metadata": {
    "kernelspec": {
      "display_name": "base",
      "language": "python",
      "name": "base"
    },
    "language_info": {
      "codemirror_mode": {
        "name": "ipython",
        "version": 3
      },
      "file_extension": ".py",
      "mimetype": "text/x-python",
      "name": "python",
      "nbconvert_exporter": "python",
      "pygments_lexer": "ipython3",
      "version": "3.9.5"
    },
    "colab": {
      "provenance": []
    }
  },
  "nbformat": 4,
  "nbformat_minor": 5
}