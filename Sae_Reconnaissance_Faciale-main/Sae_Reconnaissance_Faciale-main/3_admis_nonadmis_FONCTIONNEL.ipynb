{
  "nbformat": 4,
  "nbformat_minor": 0,
  "metadata": {
    "colab": {
      "provenance": []
    },
    "kernelspec": {
      "name": "python3",
      "display_name": "Python 3"
    },
    "language_info": {
      "name": "python"
    }
  },
  "cells": [
    {
      "cell_type": "markdown",
      "source": [
        "# Librairies\n",
        "\n"
      ],
      "metadata": {
        "id": "V-SPn0-6Mx69"
      }
    },
    {
      "cell_type": "code",
      "execution_count": 1,
      "metadata": {
        "id": "2qFJQuIysIkE"
      },
      "outputs": [],
      "source": [
        "import pickle\n",
        "import numpy as np\n",
        "import os\n",
        "import cv2\n",
        "from sklearn.neighbors import KNeighborsClassifier\n",
        "from IPython.display import display, Javascript\n",
        "from google.colab.output import eval_js\n",
        "from base64 import b64decode"
      ]
    },
    {
      "cell_type": "markdown",
      "source": [
        "# Création du dataset : collecte et préparation\n"
      ],
      "metadata": {
        "id": "moMaGOxfNUxL"
      }
    },
    {
      "cell_type": "code",
      "source": [
        "# ================== #\n",
        "# Variables globales #\n",
        "# ================== #\n",
        "\n",
        "# Création d'un répertoire data\n",
        "if not os.path.exists(\"data\"):\n",
        "    os.mkdir(\"data\")\n",
        "\n",
        "nb_images_collectees = 10  # Nombre d'image qu'on veut collecter pour chacun des admis et des non admis\n",
        "\n",
        "donnees_visage = []  # Liste vide pour enregistrer les visages\n",
        "etiquettes = []  # Liste vide pour enregistrer nos étiquetes \"admis\" ou \"non admis\"\n",
        "\n",
        "# =============================== #\n",
        "# Capture des data: nom et images #\n",
        "# =============================== #\n",
        "\n",
        "# Définition de la fonction pour capturer une photo\n",
        "def take_photo(filename='photo.jpg', quality=0.8):\n",
        "    js = Javascript('''\n",
        "        async function takePhoto(quality) {\n",
        "            const div = document.createElement('div');\n",
        "            const capture = document.createElement('button'); // bouton pour capture d'image\n",
        "            capture.textContent = 'Capture';\n",
        "            div.appendChild(capture);\n",
        "            // permet l'affichage du flux vidéo de notre caméra en temps réel\n",
        "            const video = document.createElement('video');\n",
        "            video.style.display = 'block';\n",
        "            const stream = await navigator.mediaDevices.getUserMedia({video: true});\n",
        "\n",
        "            document.body.appendChild(div);\n",
        "            div.appendChild(video);\n",
        "            video.srcObject = stream;\n",
        "            await video.play();\n",
        "\n",
        "            google.colab.output.setIframeHeight(document.documentElement.scrollHeight, true);\n",
        "            // l'exécution du script s'interromp jusqu'à ce qu'un clic pour la capture soit effectué\n",
        "            await new Promise((resolve) => capture.onclick = resolve);\n",
        "            //  capture de l'image, arrêt de la caméra, mise en format jpeg de l'image\n",
        "            const canvas = document.createElement('canvas');\n",
        "            canvas.width = video.videoWidth;\n",
        "            canvas.height = video.videoHeight;\n",
        "            canvas.getContext('2d').drawImage(video, 0, 0);\n",
        "            stream.getVideoTracks()[0].stop();\n",
        "            div.remove();\n",
        "            return canvas.toDataURL('image/jpeg', quality);\n",
        "        }\n",
        "    ''')\n",
        "    display(js)\n",
        "    # On exécute le script JavaScript et on réceptionne l'image capturée sous forme de chaîne de données base64\n",
        "    data = eval_js('takePhoto({})'.format(quality))\n",
        "    # on décode la chaîne base64 pour obtenir les données de l'image en binaire\n",
        "    binary = b64decode(data.split(',')[1])\n",
        "    # Sauvegarde des données binaires dans un fichier image\n",
        "    with open(filename, 'wb') as f:\n",
        "        f.write(binary)\n",
        "    return filename\n",
        "\n",
        "# on charge le modèl qui permet de détecter les visage\n",
        "cascade_visage = cv2.CascadeClassifier(cv2.data.haarcascades + 'haarcascade_frontalface_default.xml')\n",
        "\n",
        "# Collecte des images qui sont considéré comme \"admis\"\n",
        "print(\"Collecte des photos 'non admis'\")\n",
        "for i in range(nb_images_collectees):\n",
        "    print(f\"Capture {i+1}/{nb_images_collectees} pour 'admis'\")\n",
        "    filename = take_photo()  # Capture une photo\n",
        "    image = cv2.imread(filename)\n",
        "    gris = cv2.cvtColor(image, cv2.COLOR_BGR2GRAY)\n",
        "    coordonnees_visage = cascade_visage.detectMultiScale(gris, 1.3, 5)\n",
        "\n",
        "    for (x, y, w, h) in coordonnees_visage:\n",
        "        visage = image[y:y+h, x:x+w]\n",
        "        visage_redimensionne = cv2.resize(visage, (50, 50))\n",
        "        donnees_visage.append(visage_redimensionne)\n",
        "        break  # on sauvegarde que le 1er photo\n",
        "    etiquettes.append(\"admis\")\n",
        "\n",
        "# Collecte des images qui sont considéré comme \"non admis\"\n",
        "print(\"Collecte des photos 'non admis'\")\n",
        "for i in range(nb_images_collectees):\n",
        "    print(f\"Capture {i+1}/{nb_images_collectees} pour 'non admis'\")\n",
        "    filename = take_photo()\n",
        "    image = cv2.imread(filename)\n",
        "    gris = cv2.cvtColor(image, cv2.COLOR_BGR2GRAY)\n",
        "    coordonnees_visage = cascade_visage.detectMultiScale(gris, 1.3, 5)\n",
        "\n",
        "    for (x, y, w, h) in coordonnees_visage:\n",
        "        visage = image[y:y+h, x:x+w]\n",
        "        visage_redimensionne = cv2.resize(visage, (50, 50))\n",
        "        donnees_visage.append(visage_redimensionne)\n",
        "        etiquettes.append(\"non admis\")\n",
        "        break\n",
        "# on convertit les données des visages en un tableau numpy\n",
        "donnees_visage = np.array(donnees_visage).reshape(len(donnees_visage), -1)"
      ],
      "metadata": {
        "colab": {
          "base_uri": "https://localhost:8080/",
          "height": 416
        },
        "id": "ELRygIImKsyb",
        "outputId": "7287c803-93a6-4506-af90-94c843dd2e9c"
      },
      "execution_count": 15,
      "outputs": [
        {
          "output_type": "stream",
          "name": "stdout",
          "text": [
            "Collecte des photos 'non admis'\n",
            "Capture 1/10 pour 'admis'\n"
          ]
        },
        {
          "output_type": "display_data",
          "data": {
            "text/plain": [
              "<IPython.core.display.Javascript object>"
            ],
            "application/javascript": [
              "\n",
              "        async function takePhoto(quality) {\n",
              "            const div = document.createElement('div');\n",
              "            const capture = document.createElement('button'); // bouton pour capture d'image \n",
              "            capture.textContent = 'Capture';\n",
              "            div.appendChild(capture);\n",
              "            // permet l'affichage du flux vidéo de notre caméra en temps réel\n",
              "            const video = document.createElement('video');\n",
              "            video.style.display = 'block';\n",
              "            const stream = await navigator.mediaDevices.getUserMedia({video: true});\n",
              "\n",
              "            document.body.appendChild(div);\n",
              "            div.appendChild(video);\n",
              "            video.srcObject = stream;\n",
              "            await video.play();\n",
              "\n",
              "            google.colab.output.setIframeHeight(document.documentElement.scrollHeight, true);\n",
              "            // l'exécution du script s'interromp jusqu'à ce qu'un clic pour la capture soit effectué\n",
              "            await new Promise((resolve) => capture.onclick = resolve);\n",
              "            //  capture de l'image, arrêt de la caméra, mise en format jpeg de l'image\n",
              "            const canvas = document.createElement('canvas');\n",
              "            canvas.width = video.videoWidth;\n",
              "            canvas.height = video.videoHeight;\n",
              "            canvas.getContext('2d').drawImage(video, 0, 0);\n",
              "            stream.getVideoTracks()[0].stop();\n",
              "            div.remove();\n",
              "            return canvas.toDataURL('image/jpeg', quality);\n",
              "        }\n",
              "    "
            ]
          },
          "metadata": {}
        },
        {
          "output_type": "stream",
          "name": "stdout",
          "text": [
            "Capture 2/10 pour 'admis'\n"
          ]
        },
        {
          "output_type": "display_data",
          "data": {
            "text/plain": [
              "<IPython.core.display.Javascript object>"
            ],
            "application/javascript": [
              "\n",
              "        async function takePhoto(quality) {\n",
              "            const div = document.createElement('div');\n",
              "            const capture = document.createElement('button'); // bouton pour capture d'image \n",
              "            capture.textContent = 'Capture';\n",
              "            div.appendChild(capture);\n",
              "            // permet l'affichage du flux vidéo de notre caméra en temps réel\n",
              "            const video = document.createElement('video');\n",
              "            video.style.display = 'block';\n",
              "            const stream = await navigator.mediaDevices.getUserMedia({video: true});\n",
              "\n",
              "            document.body.appendChild(div);\n",
              "            div.appendChild(video);\n",
              "            video.srcObject = stream;\n",
              "            await video.play();\n",
              "\n",
              "            google.colab.output.setIframeHeight(document.documentElement.scrollHeight, true);\n",
              "            // l'exécution du script s'interromp jusqu'à ce qu'un clic pour la capture soit effectué\n",
              "            await new Promise((resolve) => capture.onclick = resolve);\n",
              "            //  capture de l'image, arrêt de la caméra, mise en format jpeg de l'image\n",
              "            const canvas = document.createElement('canvas');\n",
              "            canvas.width = video.videoWidth;\n",
              "            canvas.height = video.videoHeight;\n",
              "            canvas.getContext('2d').drawImage(video, 0, 0);\n",
              "            stream.getVideoTracks()[0].stop();\n",
              "            div.remove();\n",
              "            return canvas.toDataURL('image/jpeg', quality);\n",
              "        }\n",
              "    "
            ]
          },
          "metadata": {}
        },
        {
          "output_type": "stream",
          "name": "stdout",
          "text": [
            "Capture 3/10 pour 'admis'\n"
          ]
        },
        {
          "output_type": "display_data",
          "data": {
            "text/plain": [
              "<IPython.core.display.Javascript object>"
            ],
            "application/javascript": [
              "\n",
              "        async function takePhoto(quality) {\n",
              "            const div = document.createElement('div');\n",
              "            const capture = document.createElement('button'); // bouton pour capture d'image \n",
              "            capture.textContent = 'Capture';\n",
              "            div.appendChild(capture);\n",
              "            // permet l'affichage du flux vidéo de notre caméra en temps réel\n",
              "            const video = document.createElement('video');\n",
              "            video.style.display = 'block';\n",
              "            const stream = await navigator.mediaDevices.getUserMedia({video: true});\n",
              "\n",
              "            document.body.appendChild(div);\n",
              "            div.appendChild(video);\n",
              "            video.srcObject = stream;\n",
              "            await video.play();\n",
              "\n",
              "            google.colab.output.setIframeHeight(document.documentElement.scrollHeight, true);\n",
              "            // l'exécution du script s'interromp jusqu'à ce qu'un clic pour la capture soit effectué\n",
              "            await new Promise((resolve) => capture.onclick = resolve);\n",
              "            //  capture de l'image, arrêt de la caméra, mise en format jpeg de l'image\n",
              "            const canvas = document.createElement('canvas');\n",
              "            canvas.width = video.videoWidth;\n",
              "            canvas.height = video.videoHeight;\n",
              "            canvas.getContext('2d').drawImage(video, 0, 0);\n",
              "            stream.getVideoTracks()[0].stop();\n",
              "            div.remove();\n",
              "            return canvas.toDataURL('image/jpeg', quality);\n",
              "        }\n",
              "    "
            ]
          },
          "metadata": {}
        },
        {
          "output_type": "stream",
          "name": "stdout",
          "text": [
            "Capture 4/10 pour 'admis'\n"
          ]
        },
        {
          "output_type": "display_data",
          "data": {
            "text/plain": [
              "<IPython.core.display.Javascript object>"
            ],
            "application/javascript": [
              "\n",
              "        async function takePhoto(quality) {\n",
              "            const div = document.createElement('div');\n",
              "            const capture = document.createElement('button'); // bouton pour capture d'image \n",
              "            capture.textContent = 'Capture';\n",
              "            div.appendChild(capture);\n",
              "            // permet l'affichage du flux vidéo de notre caméra en temps réel\n",
              "            const video = document.createElement('video');\n",
              "            video.style.display = 'block';\n",
              "            const stream = await navigator.mediaDevices.getUserMedia({video: true});\n",
              "\n",
              "            document.body.appendChild(div);\n",
              "            div.appendChild(video);\n",
              "            video.srcObject = stream;\n",
              "            await video.play();\n",
              "\n",
              "            google.colab.output.setIframeHeight(document.documentElement.scrollHeight, true);\n",
              "            // l'exécution du script s'interromp jusqu'à ce qu'un clic pour la capture soit effectué\n",
              "            await new Promise((resolve) => capture.onclick = resolve);\n",
              "            //  capture de l'image, arrêt de la caméra, mise en format jpeg de l'image\n",
              "            const canvas = document.createElement('canvas');\n",
              "            canvas.width = video.videoWidth;\n",
              "            canvas.height = video.videoHeight;\n",
              "            canvas.getContext('2d').drawImage(video, 0, 0);\n",
              "            stream.getVideoTracks()[0].stop();\n",
              "            div.remove();\n",
              "            return canvas.toDataURL('image/jpeg', quality);\n",
              "        }\n",
              "    "
            ]
          },
          "metadata": {}
        },
        {
          "output_type": "stream",
          "name": "stdout",
          "text": [
            "Capture 5/10 pour 'admis'\n"
          ]
        },
        {
          "output_type": "display_data",
          "data": {
            "text/plain": [
              "<IPython.core.display.Javascript object>"
            ],
            "application/javascript": [
              "\n",
              "        async function takePhoto(quality) {\n",
              "            const div = document.createElement('div');\n",
              "            const capture = document.createElement('button'); // bouton pour capture d'image \n",
              "            capture.textContent = 'Capture';\n",
              "            div.appendChild(capture);\n",
              "            // permet l'affichage du flux vidéo de notre caméra en temps réel\n",
              "            const video = document.createElement('video');\n",
              "            video.style.display = 'block';\n",
              "            const stream = await navigator.mediaDevices.getUserMedia({video: true});\n",
              "\n",
              "            document.body.appendChild(div);\n",
              "            div.appendChild(video);\n",
              "            video.srcObject = stream;\n",
              "            await video.play();\n",
              "\n",
              "            google.colab.output.setIframeHeight(document.documentElement.scrollHeight, true);\n",
              "            // l'exécution du script s'interromp jusqu'à ce qu'un clic pour la capture soit effectué\n",
              "            await new Promise((resolve) => capture.onclick = resolve);\n",
              "            //  capture de l'image, arrêt de la caméra, mise en format jpeg de l'image\n",
              "            const canvas = document.createElement('canvas');\n",
              "            canvas.width = video.videoWidth;\n",
              "            canvas.height = video.videoHeight;\n",
              "            canvas.getContext('2d').drawImage(video, 0, 0);\n",
              "            stream.getVideoTracks()[0].stop();\n",
              "            div.remove();\n",
              "            return canvas.toDataURL('image/jpeg', quality);\n",
              "        }\n",
              "    "
            ]
          },
          "metadata": {}
        },
        {
          "output_type": "stream",
          "name": "stdout",
          "text": [
            "Capture 6/10 pour 'admis'\n"
          ]
        },
        {
          "output_type": "display_data",
          "data": {
            "text/plain": [
              "<IPython.core.display.Javascript object>"
            ],
            "application/javascript": [
              "\n",
              "        async function takePhoto(quality) {\n",
              "            const div = document.createElement('div');\n",
              "            const capture = document.createElement('button'); // bouton pour capture d'image \n",
              "            capture.textContent = 'Capture';\n",
              "            div.appendChild(capture);\n",
              "            // permet l'affichage du flux vidéo de notre caméra en temps réel\n",
              "            const video = document.createElement('video');\n",
              "            video.style.display = 'block';\n",
              "            const stream = await navigator.mediaDevices.getUserMedia({video: true});\n",
              "\n",
              "            document.body.appendChild(div);\n",
              "            div.appendChild(video);\n",
              "            video.srcObject = stream;\n",
              "            await video.play();\n",
              "\n",
              "            google.colab.output.setIframeHeight(document.documentElement.scrollHeight, true);\n",
              "            // l'exécution du script s'interromp jusqu'à ce qu'un clic pour la capture soit effectué\n",
              "            await new Promise((resolve) => capture.onclick = resolve);\n",
              "            //  capture de l'image, arrêt de la caméra, mise en format jpeg de l'image\n",
              "            const canvas = document.createElement('canvas');\n",
              "            canvas.width = video.videoWidth;\n",
              "            canvas.height = video.videoHeight;\n",
              "            canvas.getContext('2d').drawImage(video, 0, 0);\n",
              "            stream.getVideoTracks()[0].stop();\n",
              "            div.remove();\n",
              "            return canvas.toDataURL('image/jpeg', quality);\n",
              "        }\n",
              "    "
            ]
          },
          "metadata": {}
        },
        {
          "output_type": "stream",
          "name": "stdout",
          "text": [
            "Capture 7/10 pour 'admis'\n"
          ]
        },
        {
          "output_type": "display_data",
          "data": {
            "text/plain": [
              "<IPython.core.display.Javascript object>"
            ],
            "application/javascript": [
              "\n",
              "        async function takePhoto(quality) {\n",
              "            const div = document.createElement('div');\n",
              "            const capture = document.createElement('button'); // bouton pour capture d'image \n",
              "            capture.textContent = 'Capture';\n",
              "            div.appendChild(capture);\n",
              "            // permet l'affichage du flux vidéo de notre caméra en temps réel\n",
              "            const video = document.createElement('video');\n",
              "            video.style.display = 'block';\n",
              "            const stream = await navigator.mediaDevices.getUserMedia({video: true});\n",
              "\n",
              "            document.body.appendChild(div);\n",
              "            div.appendChild(video);\n",
              "            video.srcObject = stream;\n",
              "            await video.play();\n",
              "\n",
              "            google.colab.output.setIframeHeight(document.documentElement.scrollHeight, true);\n",
              "            // l'exécution du script s'interromp jusqu'à ce qu'un clic pour la capture soit effectué\n",
              "            await new Promise((resolve) => capture.onclick = resolve);\n",
              "            //  capture de l'image, arrêt de la caméra, mise en format jpeg de l'image\n",
              "            const canvas = document.createElement('canvas');\n",
              "            canvas.width = video.videoWidth;\n",
              "            canvas.height = video.videoHeight;\n",
              "            canvas.getContext('2d').drawImage(video, 0, 0);\n",
              "            stream.getVideoTracks()[0].stop();\n",
              "            div.remove();\n",
              "            return canvas.toDataURL('image/jpeg', quality);\n",
              "        }\n",
              "    "
            ]
          },
          "metadata": {}
        },
        {
          "output_type": "stream",
          "name": "stdout",
          "text": [
            "Capture 8/10 pour 'admis'\n"
          ]
        },
        {
          "output_type": "display_data",
          "data": {
            "text/plain": [
              "<IPython.core.display.Javascript object>"
            ],
            "application/javascript": [
              "\n",
              "        async function takePhoto(quality) {\n",
              "            const div = document.createElement('div');\n",
              "            const capture = document.createElement('button'); // bouton pour capture d'image \n",
              "            capture.textContent = 'Capture';\n",
              "            div.appendChild(capture);\n",
              "            // permet l'affichage du flux vidéo de notre caméra en temps réel\n",
              "            const video = document.createElement('video');\n",
              "            video.style.display = 'block';\n",
              "            const stream = await navigator.mediaDevices.getUserMedia({video: true});\n",
              "\n",
              "            document.body.appendChild(div);\n",
              "            div.appendChild(video);\n",
              "            video.srcObject = stream;\n",
              "            await video.play();\n",
              "\n",
              "            google.colab.output.setIframeHeight(document.documentElement.scrollHeight, true);\n",
              "            // l'exécution du script s'interromp jusqu'à ce qu'un clic pour la capture soit effectué\n",
              "            await new Promise((resolve) => capture.onclick = resolve);\n",
              "            //  capture de l'image, arrêt de la caméra, mise en format jpeg de l'image\n",
              "            const canvas = document.createElement('canvas');\n",
              "            canvas.width = video.videoWidth;\n",
              "            canvas.height = video.videoHeight;\n",
              "            canvas.getContext('2d').drawImage(video, 0, 0);\n",
              "            stream.getVideoTracks()[0].stop();\n",
              "            div.remove();\n",
              "            return canvas.toDataURL('image/jpeg', quality);\n",
              "        }\n",
              "    "
            ]
          },
          "metadata": {}
        },
        {
          "output_type": "stream",
          "name": "stdout",
          "text": [
            "Capture 9/10 pour 'admis'\n"
          ]
        },
        {
          "output_type": "display_data",
          "data": {
            "text/plain": [
              "<IPython.core.display.Javascript object>"
            ],
            "application/javascript": [
              "\n",
              "        async function takePhoto(quality) {\n",
              "            const div = document.createElement('div');\n",
              "            const capture = document.createElement('button'); // bouton pour capture d'image \n",
              "            capture.textContent = 'Capture';\n",
              "            div.appendChild(capture);\n",
              "            // permet l'affichage du flux vidéo de notre caméra en temps réel\n",
              "            const video = document.createElement('video');\n",
              "            video.style.display = 'block';\n",
              "            const stream = await navigator.mediaDevices.getUserMedia({video: true});\n",
              "\n",
              "            document.body.appendChild(div);\n",
              "            div.appendChild(video);\n",
              "            video.srcObject = stream;\n",
              "            await video.play();\n",
              "\n",
              "            google.colab.output.setIframeHeight(document.documentElement.scrollHeight, true);\n",
              "            // l'exécution du script s'interromp jusqu'à ce qu'un clic pour la capture soit effectué\n",
              "            await new Promise((resolve) => capture.onclick = resolve);\n",
              "            //  capture de l'image, arrêt de la caméra, mise en format jpeg de l'image\n",
              "            const canvas = document.createElement('canvas');\n",
              "            canvas.width = video.videoWidth;\n",
              "            canvas.height = video.videoHeight;\n",
              "            canvas.getContext('2d').drawImage(video, 0, 0);\n",
              "            stream.getVideoTracks()[0].stop();\n",
              "            div.remove();\n",
              "            return canvas.toDataURL('image/jpeg', quality);\n",
              "        }\n",
              "    "
            ]
          },
          "metadata": {}
        },
        {
          "output_type": "stream",
          "name": "stdout",
          "text": [
            "Capture 10/10 pour 'admis'\n"
          ]
        },
        {
          "output_type": "display_data",
          "data": {
            "text/plain": [
              "<IPython.core.display.Javascript object>"
            ],
            "application/javascript": [
              "\n",
              "        async function takePhoto(quality) {\n",
              "            const div = document.createElement('div');\n",
              "            const capture = document.createElement('button'); // bouton pour capture d'image \n",
              "            capture.textContent = 'Capture';\n",
              "            div.appendChild(capture);\n",
              "            // permet l'affichage du flux vidéo de notre caméra en temps réel\n",
              "            const video = document.createElement('video');\n",
              "            video.style.display = 'block';\n",
              "            const stream = await navigator.mediaDevices.getUserMedia({video: true});\n",
              "\n",
              "            document.body.appendChild(div);\n",
              "            div.appendChild(video);\n",
              "            video.srcObject = stream;\n",
              "            await video.play();\n",
              "\n",
              "            google.colab.output.setIframeHeight(document.documentElement.scrollHeight, true);\n",
              "            // l'exécution du script s'interromp jusqu'à ce qu'un clic pour la capture soit effectué\n",
              "            await new Promise((resolve) => capture.onclick = resolve);\n",
              "            //  capture de l'image, arrêt de la caméra, mise en format jpeg de l'image\n",
              "            const canvas = document.createElement('canvas');\n",
              "            canvas.width = video.videoWidth;\n",
              "            canvas.height = video.videoHeight;\n",
              "            canvas.getContext('2d').drawImage(video, 0, 0);\n",
              "            stream.getVideoTracks()[0].stop();\n",
              "            div.remove();\n",
              "            return canvas.toDataURL('image/jpeg', quality);\n",
              "        }\n",
              "    "
            ]
          },
          "metadata": {}
        },
        {
          "output_type": "stream",
          "name": "stdout",
          "text": [
            "Collecte des photos 'non admis'\n",
            "Capture 1/10 pour 'non admis'\n"
          ]
        },
        {
          "output_type": "display_data",
          "data": {
            "text/plain": [
              "<IPython.core.display.Javascript object>"
            ],
            "application/javascript": [
              "\n",
              "        async function takePhoto(quality) {\n",
              "            const div = document.createElement('div');\n",
              "            const capture = document.createElement('button'); // bouton pour capture d'image \n",
              "            capture.textContent = 'Capture';\n",
              "            div.appendChild(capture);\n",
              "            // permet l'affichage du flux vidéo de notre caméra en temps réel\n",
              "            const video = document.createElement('video');\n",
              "            video.style.display = 'block';\n",
              "            const stream = await navigator.mediaDevices.getUserMedia({video: true});\n",
              "\n",
              "            document.body.appendChild(div);\n",
              "            div.appendChild(video);\n",
              "            video.srcObject = stream;\n",
              "            await video.play();\n",
              "\n",
              "            google.colab.output.setIframeHeight(document.documentElement.scrollHeight, true);\n",
              "            // l'exécution du script s'interromp jusqu'à ce qu'un clic pour la capture soit effectué\n",
              "            await new Promise((resolve) => capture.onclick = resolve);\n",
              "            //  capture de l'image, arrêt de la caméra, mise en format jpeg de l'image\n",
              "            const canvas = document.createElement('canvas');\n",
              "            canvas.width = video.videoWidth;\n",
              "            canvas.height = video.videoHeight;\n",
              "            canvas.getContext('2d').drawImage(video, 0, 0);\n",
              "            stream.getVideoTracks()[0].stop();\n",
              "            div.remove();\n",
              "            return canvas.toDataURL('image/jpeg', quality);\n",
              "        }\n",
              "    "
            ]
          },
          "metadata": {}
        },
        {
          "output_type": "stream",
          "name": "stdout",
          "text": [
            "Capture 2/10 pour 'non admis'\n"
          ]
        },
        {
          "output_type": "display_data",
          "data": {
            "text/plain": [
              "<IPython.core.display.Javascript object>"
            ],
            "application/javascript": [
              "\n",
              "        async function takePhoto(quality) {\n",
              "            const div = document.createElement('div');\n",
              "            const capture = document.createElement('button'); // bouton pour capture d'image \n",
              "            capture.textContent = 'Capture';\n",
              "            div.appendChild(capture);\n",
              "            // permet l'affichage du flux vidéo de notre caméra en temps réel\n",
              "            const video = document.createElement('video');\n",
              "            video.style.display = 'block';\n",
              "            const stream = await navigator.mediaDevices.getUserMedia({video: true});\n",
              "\n",
              "            document.body.appendChild(div);\n",
              "            div.appendChild(video);\n",
              "            video.srcObject = stream;\n",
              "            await video.play();\n",
              "\n",
              "            google.colab.output.setIframeHeight(document.documentElement.scrollHeight, true);\n",
              "            // l'exécution du script s'interromp jusqu'à ce qu'un clic pour la capture soit effectué\n",
              "            await new Promise((resolve) => capture.onclick = resolve);\n",
              "            //  capture de l'image, arrêt de la caméra, mise en format jpeg de l'image\n",
              "            const canvas = document.createElement('canvas');\n",
              "            canvas.width = video.videoWidth;\n",
              "            canvas.height = video.videoHeight;\n",
              "            canvas.getContext('2d').drawImage(video, 0, 0);\n",
              "            stream.getVideoTracks()[0].stop();\n",
              "            div.remove();\n",
              "            return canvas.toDataURL('image/jpeg', quality);\n",
              "        }\n",
              "    "
            ]
          },
          "metadata": {}
        },
        {
          "output_type": "stream",
          "name": "stdout",
          "text": [
            "Capture 3/10 pour 'non admis'\n"
          ]
        },
        {
          "output_type": "display_data",
          "data": {
            "text/plain": [
              "<IPython.core.display.Javascript object>"
            ],
            "application/javascript": [
              "\n",
              "        async function takePhoto(quality) {\n",
              "            const div = document.createElement('div');\n",
              "            const capture = document.createElement('button'); // bouton pour capture d'image \n",
              "            capture.textContent = 'Capture';\n",
              "            div.appendChild(capture);\n",
              "            // permet l'affichage du flux vidéo de notre caméra en temps réel\n",
              "            const video = document.createElement('video');\n",
              "            video.style.display = 'block';\n",
              "            const stream = await navigator.mediaDevices.getUserMedia({video: true});\n",
              "\n",
              "            document.body.appendChild(div);\n",
              "            div.appendChild(video);\n",
              "            video.srcObject = stream;\n",
              "            await video.play();\n",
              "\n",
              "            google.colab.output.setIframeHeight(document.documentElement.scrollHeight, true);\n",
              "            // l'exécution du script s'interromp jusqu'à ce qu'un clic pour la capture soit effectué\n",
              "            await new Promise((resolve) => capture.onclick = resolve);\n",
              "            //  capture de l'image, arrêt de la caméra, mise en format jpeg de l'image\n",
              "            const canvas = document.createElement('canvas');\n",
              "            canvas.width = video.videoWidth;\n",
              "            canvas.height = video.videoHeight;\n",
              "            canvas.getContext('2d').drawImage(video, 0, 0);\n",
              "            stream.getVideoTracks()[0].stop();\n",
              "            div.remove();\n",
              "            return canvas.toDataURL('image/jpeg', quality);\n",
              "        }\n",
              "    "
            ]
          },
          "metadata": {}
        },
        {
          "output_type": "stream",
          "name": "stdout",
          "text": [
            "Capture 4/10 pour 'non admis'\n"
          ]
        },
        {
          "output_type": "display_data",
          "data": {
            "text/plain": [
              "<IPython.core.display.Javascript object>"
            ],
            "application/javascript": [
              "\n",
              "        async function takePhoto(quality) {\n",
              "            const div = document.createElement('div');\n",
              "            const capture = document.createElement('button'); // bouton pour capture d'image \n",
              "            capture.textContent = 'Capture';\n",
              "            div.appendChild(capture);\n",
              "            // permet l'affichage du flux vidéo de notre caméra en temps réel\n",
              "            const video = document.createElement('video');\n",
              "            video.style.display = 'block';\n",
              "            const stream = await navigator.mediaDevices.getUserMedia({video: true});\n",
              "\n",
              "            document.body.appendChild(div);\n",
              "            div.appendChild(video);\n",
              "            video.srcObject = stream;\n",
              "            await video.play();\n",
              "\n",
              "            google.colab.output.setIframeHeight(document.documentElement.scrollHeight, true);\n",
              "            // l'exécution du script s'interromp jusqu'à ce qu'un clic pour la capture soit effectué\n",
              "            await new Promise((resolve) => capture.onclick = resolve);\n",
              "            //  capture de l'image, arrêt de la caméra, mise en format jpeg de l'image\n",
              "            const canvas = document.createElement('canvas');\n",
              "            canvas.width = video.videoWidth;\n",
              "            canvas.height = video.videoHeight;\n",
              "            canvas.getContext('2d').drawImage(video, 0, 0);\n",
              "            stream.getVideoTracks()[0].stop();\n",
              "            div.remove();\n",
              "            return canvas.toDataURL('image/jpeg', quality);\n",
              "        }\n",
              "    "
            ]
          },
          "metadata": {}
        },
        {
          "output_type": "stream",
          "name": "stdout",
          "text": [
            "Capture 5/10 pour 'non admis'\n"
          ]
        },
        {
          "output_type": "display_data",
          "data": {
            "text/plain": [
              "<IPython.core.display.Javascript object>"
            ],
            "application/javascript": [
              "\n",
              "        async function takePhoto(quality) {\n",
              "            const div = document.createElement('div');\n",
              "            const capture = document.createElement('button'); // bouton pour capture d'image \n",
              "            capture.textContent = 'Capture';\n",
              "            div.appendChild(capture);\n",
              "            // permet l'affichage du flux vidéo de notre caméra en temps réel\n",
              "            const video = document.createElement('video');\n",
              "            video.style.display = 'block';\n",
              "            const stream = await navigator.mediaDevices.getUserMedia({video: true});\n",
              "\n",
              "            document.body.appendChild(div);\n",
              "            div.appendChild(video);\n",
              "            video.srcObject = stream;\n",
              "            await video.play();\n",
              "\n",
              "            google.colab.output.setIframeHeight(document.documentElement.scrollHeight, true);\n",
              "            // l'exécution du script s'interromp jusqu'à ce qu'un clic pour la capture soit effectué\n",
              "            await new Promise((resolve) => capture.onclick = resolve);\n",
              "            //  capture de l'image, arrêt de la caméra, mise en format jpeg de l'image\n",
              "            const canvas = document.createElement('canvas');\n",
              "            canvas.width = video.videoWidth;\n",
              "            canvas.height = video.videoHeight;\n",
              "            canvas.getContext('2d').drawImage(video, 0, 0);\n",
              "            stream.getVideoTracks()[0].stop();\n",
              "            div.remove();\n",
              "            return canvas.toDataURL('image/jpeg', quality);\n",
              "        }\n",
              "    "
            ]
          },
          "metadata": {}
        },
        {
          "output_type": "stream",
          "name": "stdout",
          "text": [
            "Capture 6/10 pour 'non admis'\n"
          ]
        },
        {
          "output_type": "display_data",
          "data": {
            "text/plain": [
              "<IPython.core.display.Javascript object>"
            ],
            "application/javascript": [
              "\n",
              "        async function takePhoto(quality) {\n",
              "            const div = document.createElement('div');\n",
              "            const capture = document.createElement('button'); // bouton pour capture d'image \n",
              "            capture.textContent = 'Capture';\n",
              "            div.appendChild(capture);\n",
              "            // permet l'affichage du flux vidéo de notre caméra en temps réel\n",
              "            const video = document.createElement('video');\n",
              "            video.style.display = 'block';\n",
              "            const stream = await navigator.mediaDevices.getUserMedia({video: true});\n",
              "\n",
              "            document.body.appendChild(div);\n",
              "            div.appendChild(video);\n",
              "            video.srcObject = stream;\n",
              "            await video.play();\n",
              "\n",
              "            google.colab.output.setIframeHeight(document.documentElement.scrollHeight, true);\n",
              "            // l'exécution du script s'interromp jusqu'à ce qu'un clic pour la capture soit effectué\n",
              "            await new Promise((resolve) => capture.onclick = resolve);\n",
              "            //  capture de l'image, arrêt de la caméra, mise en format jpeg de l'image\n",
              "            const canvas = document.createElement('canvas');\n",
              "            canvas.width = video.videoWidth;\n",
              "            canvas.height = video.videoHeight;\n",
              "            canvas.getContext('2d').drawImage(video, 0, 0);\n",
              "            stream.getVideoTracks()[0].stop();\n",
              "            div.remove();\n",
              "            return canvas.toDataURL('image/jpeg', quality);\n",
              "        }\n",
              "    "
            ]
          },
          "metadata": {}
        },
        {
          "output_type": "stream",
          "name": "stdout",
          "text": [
            "Capture 7/10 pour 'non admis'\n"
          ]
        },
        {
          "output_type": "display_data",
          "data": {
            "text/plain": [
              "<IPython.core.display.Javascript object>"
            ],
            "application/javascript": [
              "\n",
              "        async function takePhoto(quality) {\n",
              "            const div = document.createElement('div');\n",
              "            const capture = document.createElement('button'); // bouton pour capture d'image \n",
              "            capture.textContent = 'Capture';\n",
              "            div.appendChild(capture);\n",
              "            // permet l'affichage du flux vidéo de notre caméra en temps réel\n",
              "            const video = document.createElement('video');\n",
              "            video.style.display = 'block';\n",
              "            const stream = await navigator.mediaDevices.getUserMedia({video: true});\n",
              "\n",
              "            document.body.appendChild(div);\n",
              "            div.appendChild(video);\n",
              "            video.srcObject = stream;\n",
              "            await video.play();\n",
              "\n",
              "            google.colab.output.setIframeHeight(document.documentElement.scrollHeight, true);\n",
              "            // l'exécution du script s'interromp jusqu'à ce qu'un clic pour la capture soit effectué\n",
              "            await new Promise((resolve) => capture.onclick = resolve);\n",
              "            //  capture de l'image, arrêt de la caméra, mise en format jpeg de l'image\n",
              "            const canvas = document.createElement('canvas');\n",
              "            canvas.width = video.videoWidth;\n",
              "            canvas.height = video.videoHeight;\n",
              "            canvas.getContext('2d').drawImage(video, 0, 0);\n",
              "            stream.getVideoTracks()[0].stop();\n",
              "            div.remove();\n",
              "            return canvas.toDataURL('image/jpeg', quality);\n",
              "        }\n",
              "    "
            ]
          },
          "metadata": {}
        },
        {
          "output_type": "stream",
          "name": "stdout",
          "text": [
            "Capture 8/10 pour 'non admis'\n"
          ]
        },
        {
          "output_type": "display_data",
          "data": {
            "text/plain": [
              "<IPython.core.display.Javascript object>"
            ],
            "application/javascript": [
              "\n",
              "        async function takePhoto(quality) {\n",
              "            const div = document.createElement('div');\n",
              "            const capture = document.createElement('button'); // bouton pour capture d'image \n",
              "            capture.textContent = 'Capture';\n",
              "            div.appendChild(capture);\n",
              "            // permet l'affichage du flux vidéo de notre caméra en temps réel\n",
              "            const video = document.createElement('video');\n",
              "            video.style.display = 'block';\n",
              "            const stream = await navigator.mediaDevices.getUserMedia({video: true});\n",
              "\n",
              "            document.body.appendChild(div);\n",
              "            div.appendChild(video);\n",
              "            video.srcObject = stream;\n",
              "            await video.play();\n",
              "\n",
              "            google.colab.output.setIframeHeight(document.documentElement.scrollHeight, true);\n",
              "            // l'exécution du script s'interromp jusqu'à ce qu'un clic pour la capture soit effectué\n",
              "            await new Promise((resolve) => capture.onclick = resolve);\n",
              "            //  capture de l'image, arrêt de la caméra, mise en format jpeg de l'image\n",
              "            const canvas = document.createElement('canvas');\n",
              "            canvas.width = video.videoWidth;\n",
              "            canvas.height = video.videoHeight;\n",
              "            canvas.getContext('2d').drawImage(video, 0, 0);\n",
              "            stream.getVideoTracks()[0].stop();\n",
              "            div.remove();\n",
              "            return canvas.toDataURL('image/jpeg', quality);\n",
              "        }\n",
              "    "
            ]
          },
          "metadata": {}
        },
        {
          "output_type": "stream",
          "name": "stdout",
          "text": [
            "Capture 9/10 pour 'non admis'\n"
          ]
        },
        {
          "output_type": "display_data",
          "data": {
            "text/plain": [
              "<IPython.core.display.Javascript object>"
            ],
            "application/javascript": [
              "\n",
              "        async function takePhoto(quality) {\n",
              "            const div = document.createElement('div');\n",
              "            const capture = document.createElement('button'); // bouton pour capture d'image \n",
              "            capture.textContent = 'Capture';\n",
              "            div.appendChild(capture);\n",
              "            // permet l'affichage du flux vidéo de notre caméra en temps réel\n",
              "            const video = document.createElement('video');\n",
              "            video.style.display = 'block';\n",
              "            const stream = await navigator.mediaDevices.getUserMedia({video: true});\n",
              "\n",
              "            document.body.appendChild(div);\n",
              "            div.appendChild(video);\n",
              "            video.srcObject = stream;\n",
              "            await video.play();\n",
              "\n",
              "            google.colab.output.setIframeHeight(document.documentElement.scrollHeight, true);\n",
              "            // l'exécution du script s'interromp jusqu'à ce qu'un clic pour la capture soit effectué\n",
              "            await new Promise((resolve) => capture.onclick = resolve);\n",
              "            //  capture de l'image, arrêt de la caméra, mise en format jpeg de l'image\n",
              "            const canvas = document.createElement('canvas');\n",
              "            canvas.width = video.videoWidth;\n",
              "            canvas.height = video.videoHeight;\n",
              "            canvas.getContext('2d').drawImage(video, 0, 0);\n",
              "            stream.getVideoTracks()[0].stop();\n",
              "            div.remove();\n",
              "            return canvas.toDataURL('image/jpeg', quality);\n",
              "        }\n",
              "    "
            ]
          },
          "metadata": {}
        },
        {
          "output_type": "stream",
          "name": "stdout",
          "text": [
            "Capture 10/10 pour 'non admis'\n"
          ]
        },
        {
          "output_type": "display_data",
          "data": {
            "text/plain": [
              "<IPython.core.display.Javascript object>"
            ],
            "application/javascript": [
              "\n",
              "        async function takePhoto(quality) {\n",
              "            const div = document.createElement('div');\n",
              "            const capture = document.createElement('button'); // bouton pour capture d'image \n",
              "            capture.textContent = 'Capture';\n",
              "            div.appendChild(capture);\n",
              "            // permet l'affichage du flux vidéo de notre caméra en temps réel\n",
              "            const video = document.createElement('video');\n",
              "            video.style.display = 'block';\n",
              "            const stream = await navigator.mediaDevices.getUserMedia({video: true});\n",
              "\n",
              "            document.body.appendChild(div);\n",
              "            div.appendChild(video);\n",
              "            video.srcObject = stream;\n",
              "            await video.play();\n",
              "\n",
              "            google.colab.output.setIframeHeight(document.documentElement.scrollHeight, true);\n",
              "            // l'exécution du script s'interromp jusqu'à ce qu'un clic pour la capture soit effectué\n",
              "            await new Promise((resolve) => capture.onclick = resolve);\n",
              "            //  capture de l'image, arrêt de la caméra, mise en format jpeg de l'image\n",
              "            const canvas = document.createElement('canvas');\n",
              "            canvas.width = video.videoWidth;\n",
              "            canvas.height = video.videoHeight;\n",
              "            canvas.getContext('2d').drawImage(video, 0, 0);\n",
              "            stream.getVideoTracks()[0].stop();\n",
              "            div.remove();\n",
              "            return canvas.toDataURL('image/jpeg', quality);\n",
              "        }\n",
              "    "
            ]
          },
          "metadata": {}
        }
      ]
    },
    {
      "cell_type": "markdown",
      "source": [
        "# Souvegarde de données"
      ],
      "metadata": {
        "id": "jy3KweeyOkAB"
      }
    },
    {
      "cell_type": "code",
      "source": [
        "# Enregistrement des visages et des étiquettes\n",
        "with open('data/visages.pkl', 'wb') as file:\n",
        "    pickle.dump(donnees_visage, file)\n",
        "\n",
        "with open('data/etiquettes.pkl', 'wb') as file:\n",
        "    pickle.dump(etiquettes, file)"
      ],
      "metadata": {
        "id": "ry6_wfFMKnQW"
      },
      "execution_count": 16,
      "outputs": []
    },
    {
      "cell_type": "markdown",
      "source": [
        "# Algorithme"
      ],
      "metadata": {
        "id": "RJ_wtLD2O-lc"
      }
    },
    {
      "cell_type": "code",
      "source": [
        "# Chargement du data\n",
        "with open('data/visages.pkl', 'rb') as file:\n",
        "    visages = pickle.load(file)\n",
        "\n",
        "with open('data/etiquettes.pkl', 'rb') as file:\n",
        "    etiquettes = pickle.load(file)"
      ],
      "metadata": {
        "id": "7ywFfed-t8oZ"
      },
      "execution_count": 17,
      "outputs": []
    },
    {
      "cell_type": "code",
      "source": [
        "# Entrainement du modèl KNN\n",
        "knn = KNeighborsClassifier(n_neighbors=1)\n",
        "knn.fit(visages, etiquettes)"
      ],
      "metadata": {
        "colab": {
          "base_uri": "https://localhost:8080/",
          "height": 74
        },
        "id": "bg7ZwJyjuqrJ",
        "outputId": "08f9d3f2-0c03-4401-ea0a-38be2aa070f8"
      },
      "execution_count": 18,
      "outputs": [
        {
          "output_type": "execute_result",
          "data": {
            "text/plain": [
              "KNeighborsClassifier(n_neighbors=1)"
            ],
            "text/html": [
              "<style>#sk-container-id-2 {color: black;background-color: white;}#sk-container-id-2 pre{padding: 0;}#sk-container-id-2 div.sk-toggleable {background-color: white;}#sk-container-id-2 label.sk-toggleable__label {cursor: pointer;display: block;width: 100%;margin-bottom: 0;padding: 0.3em;box-sizing: border-box;text-align: center;}#sk-container-id-2 label.sk-toggleable__label-arrow:before {content: \"▸\";float: left;margin-right: 0.25em;color: #696969;}#sk-container-id-2 label.sk-toggleable__label-arrow:hover:before {color: black;}#sk-container-id-2 div.sk-estimator:hover label.sk-toggleable__label-arrow:before {color: black;}#sk-container-id-2 div.sk-toggleable__content {max-height: 0;max-width: 0;overflow: hidden;text-align: left;background-color: #f0f8ff;}#sk-container-id-2 div.sk-toggleable__content pre {margin: 0.2em;color: black;border-radius: 0.25em;background-color: #f0f8ff;}#sk-container-id-2 input.sk-toggleable__control:checked~div.sk-toggleable__content {max-height: 200px;max-width: 100%;overflow: auto;}#sk-container-id-2 input.sk-toggleable__control:checked~label.sk-toggleable__label-arrow:before {content: \"▾\";}#sk-container-id-2 div.sk-estimator input.sk-toggleable__control:checked~label.sk-toggleable__label {background-color: #d4ebff;}#sk-container-id-2 div.sk-label input.sk-toggleable__control:checked~label.sk-toggleable__label {background-color: #d4ebff;}#sk-container-id-2 input.sk-hidden--visually {border: 0;clip: rect(1px 1px 1px 1px);clip: rect(1px, 1px, 1px, 1px);height: 1px;margin: -1px;overflow: hidden;padding: 0;position: absolute;width: 1px;}#sk-container-id-2 div.sk-estimator {font-family: monospace;background-color: #f0f8ff;border: 1px dotted black;border-radius: 0.25em;box-sizing: border-box;margin-bottom: 0.5em;}#sk-container-id-2 div.sk-estimator:hover {background-color: #d4ebff;}#sk-container-id-2 div.sk-parallel-item::after {content: \"\";width: 100%;border-bottom: 1px solid gray;flex-grow: 1;}#sk-container-id-2 div.sk-label:hover label.sk-toggleable__label {background-color: #d4ebff;}#sk-container-id-2 div.sk-serial::before {content: \"\";position: absolute;border-left: 1px solid gray;box-sizing: border-box;top: 0;bottom: 0;left: 50%;z-index: 0;}#sk-container-id-2 div.sk-serial {display: flex;flex-direction: column;align-items: center;background-color: white;padding-right: 0.2em;padding-left: 0.2em;position: relative;}#sk-container-id-2 div.sk-item {position: relative;z-index: 1;}#sk-container-id-2 div.sk-parallel {display: flex;align-items: stretch;justify-content: center;background-color: white;position: relative;}#sk-container-id-2 div.sk-item::before, #sk-container-id-2 div.sk-parallel-item::before {content: \"\";position: absolute;border-left: 1px solid gray;box-sizing: border-box;top: 0;bottom: 0;left: 50%;z-index: -1;}#sk-container-id-2 div.sk-parallel-item {display: flex;flex-direction: column;z-index: 1;position: relative;background-color: white;}#sk-container-id-2 div.sk-parallel-item:first-child::after {align-self: flex-end;width: 50%;}#sk-container-id-2 div.sk-parallel-item:last-child::after {align-self: flex-start;width: 50%;}#sk-container-id-2 div.sk-parallel-item:only-child::after {width: 0;}#sk-container-id-2 div.sk-dashed-wrapped {border: 1px dashed gray;margin: 0 0.4em 0.5em 0.4em;box-sizing: border-box;padding-bottom: 0.4em;background-color: white;}#sk-container-id-2 div.sk-label label {font-family: monospace;font-weight: bold;display: inline-block;line-height: 1.2em;}#sk-container-id-2 div.sk-label-container {text-align: center;}#sk-container-id-2 div.sk-container {/* jupyter's `normalize.less` sets `[hidden] { display: none; }` but bootstrap.min.css set `[hidden] { display: none !important; }` so we also need the `!important` here to be able to override the default hidden behavior on the sphinx rendered scikit-learn.org. See: https://github.com/scikit-learn/scikit-learn/issues/21755 */display: inline-block !important;position: relative;}#sk-container-id-2 div.sk-text-repr-fallback {display: none;}</style><div id=\"sk-container-id-2\" class=\"sk-top-container\"><div class=\"sk-text-repr-fallback\"><pre>KNeighborsClassifier(n_neighbors=1)</pre><b>In a Jupyter environment, please rerun this cell to show the HTML representation or trust the notebook. <br />On GitHub, the HTML representation is unable to render, please try loading this page with nbviewer.org.</b></div><div class=\"sk-container\" hidden><div class=\"sk-item\"><div class=\"sk-estimator sk-toggleable\"><input class=\"sk-toggleable__control sk-hidden--visually\" id=\"sk-estimator-id-2\" type=\"checkbox\" checked><label for=\"sk-estimator-id-2\" class=\"sk-toggleable__label sk-toggleable__label-arrow\">KNeighborsClassifier</label><div class=\"sk-toggleable__content\"><pre>KNeighborsClassifier(n_neighbors=1)</pre></div></div></div></div></div>"
            ]
          },
          "metadata": {},
          "execution_count": 18
        }
      ]
    },
    {
      "cell_type": "markdown",
      "source": [
        "# Exécution"
      ],
      "metadata": {
        "id": "UULvuMeEP1Tj"
      }
    },
    {
      "cell_type": "code",
      "source": [
        "# Exemple d''exécution\n",
        "filename_test = take_photo('test_photo.jpg') #prend une nouvelle photo\n",
        "# Traitement de la photo prise\n",
        "image_test = cv2.imread(filename_test)\n",
        "gris_test = cv2.cvtColor(image_test, cv2.COLOR_BGR2GRAY)\n",
        "coordonnees_visage_test = cascade_visage.detectMultiScale(gris_test, 1.3, 5)\n",
        "\n",
        "for (x, y, w, h) in coordonnees_visage_test:\n",
        "    visage_test = image_test[y:y+h, x:x+w]\n",
        "    visage_test_redimensionne = cv2.resize(visage_test, (50, 50))\n",
        "    break\n",
        "\n",
        "visage_test_flatten = visage_test_redimensionne.reshape(1, -1)  # applatit la photo\n",
        "# Prédiction à l'aide de l'algorithme KNN\n",
        "prediction = knn.predict(visage_test_flatten)\n",
        "print(f\"Le visage est prédit comme : {'Admis' if prediction[0] == 'admis' else 'Non admis'}\")\n"
      ],
      "metadata": {
        "colab": {
          "base_uri": "https://localhost:8080/",
          "height": 35
        },
        "id": "qbU-5A9Bxviu",
        "outputId": "15dad5e0-c4bd-4f05-d28b-3b128b1f1b04"
      },
      "execution_count": 19,
      "outputs": [
        {
          "output_type": "display_data",
          "data": {
            "text/plain": [
              "<IPython.core.display.Javascript object>"
            ],
            "application/javascript": [
              "\n",
              "        async function takePhoto(quality) {\n",
              "            const div = document.createElement('div');\n",
              "            const capture = document.createElement('button'); // bouton pour capture d'image \n",
              "            capture.textContent = 'Capture';\n",
              "            div.appendChild(capture);\n",
              "            // permet l'affichage du flux vidéo de notre caméra en temps réel\n",
              "            const video = document.createElement('video');\n",
              "            video.style.display = 'block';\n",
              "            const stream = await navigator.mediaDevices.getUserMedia({video: true});\n",
              "\n",
              "            document.body.appendChild(div);\n",
              "            div.appendChild(video);\n",
              "            video.srcObject = stream;\n",
              "            await video.play();\n",
              "\n",
              "            google.colab.output.setIframeHeight(document.documentElement.scrollHeight, true);\n",
              "            // l'exécution du script s'interromp jusqu'à ce qu'un clic pour la capture soit effectué\n",
              "            await new Promise((resolve) => capture.onclick = resolve);\n",
              "            //  capture de l'image, arrêt de la caméra, mise en format jpeg de l'image\n",
              "            const canvas = document.createElement('canvas');\n",
              "            canvas.width = video.videoWidth;\n",
              "            canvas.height = video.videoHeight;\n",
              "            canvas.getContext('2d').drawImage(video, 0, 0);\n",
              "            stream.getVideoTracks()[0].stop();\n",
              "            div.remove();\n",
              "            return canvas.toDataURL('image/jpeg', quality);\n",
              "        }\n",
              "    "
            ]
          },
          "metadata": {}
        },
        {
          "output_type": "stream",
          "name": "stdout",
          "text": [
            "Le visage est prédit comme : Non admis\n"
          ]
        }
      ]
    }
  ]
}